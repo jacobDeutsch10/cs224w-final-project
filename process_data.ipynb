{
 "cells": [
  {
   "attachments": {},
   "cell_type": "markdown",
   "metadata": {},
   "source": [
    "This file contains code for processing the MPD into a smaller dataset. It assumes the json files containing the data are stored in the directory `./data`"
   ]
  },
  {
   "cell_type": "code",
   "execution_count": 22,
   "metadata": {},
   "outputs": [],
   "source": [
    "import networkx as nx\n",
    "import pandas as pd\n",
    "import numpy as np\n",
    "import glob\n",
    "import json\n",
    "import tqdm\n",
    "import random"
   ]
  },
  {
   "cell_type": "code",
   "execution_count": 23,
   "metadata": {},
   "outputs": [
    {
     "name": "stderr",
     "output_type": "stream",
     "text": [
      "100%|██████████| 25/25 [00:10<00:00,  2.30it/s]\n"
     ]
    }
   ],
   "source": [
    "# seed random for reproducibility\n",
    "random.seed(1)\n",
    "# grab all MPD data files\n",
    "files = glob.glob(\"data/*.json\")\n",
    "playlists = {}\n",
    "tracks = {}\n",
    "track_names = {}\n",
    "\n",
    "# create an empty graphs\n",
    "G = nx.Graph()\n",
    "# set the track counter to 2 million so we don't overlap with playlist ids\n",
    "track_counter = 2000000\n",
    "\n",
    "playlist_counter = 0\n",
    "# shuffle the files so we don't get a bias towards the first files\n",
    "random.shuffle(files)\n",
    "for file in tqdm.tqdm(files[:25]):\n",
    "    # read in the data\n",
    "    with open(file, \"r\") as f:\n",
    "        data = json.load(f)['playlists']\n",
    "    # loop through each playlist\n",
    "    for playlist in data:\n",
    "        pl_pid = playlist['pid']\n",
    "        # only use playlists with at least 30 tracks\n",
    "        if len(playlist['tracks']) < 30:\n",
    "            continue\n",
    "\n",
    "        playlists[playlist_counter] = pl_pid\n",
    "        # add the playlist to the graph\n",
    "        G.add_node(playlist_counter)\n",
    "        for track in playlist['tracks']:\n",
    "            track_uri = track['track_uri']\n",
    "            # add the track to the graph if it doesn't exist\n",
    "            if not tracks.get(track_uri):\n",
    "                tracks[track_uri] = track_counter\n",
    "                track_names[track_counter] = track['track_name']\n",
    "                G.add_node(track_counter)\n",
    "                track_counter += 1\n",
    "            # add the edge between the playlist and the track\n",
    "            G.add_edge(playlist_counter, tracks[track_uri])\n",
    "        playlist_counter+=1\n",
    "with open('track_idx.json', 'w') as f:\n",
    "    json.dump(tracks, f)\n"
   ]
  },
  {
   "cell_type": "code",
   "execution_count": 26,
   "metadata": {},
   "outputs": [
    {
     "data": {
      "text/plain": [
       "(7990, 11233)"
      ]
     },
     "execution_count": 26,
     "metadata": {},
     "output_type": "execute_result"
    }
   ],
   "source": [
    "# find the k-core of the graph\n",
    "sG = nx.k_core(G, k=25)\n",
    "nx.write_edgelist(sG, 'data/sample_graph.csv')\n",
    "num_tracks, num_playlist = len([n for n in sG.nodes() if n >= 2000000]), len([n for n in sG.nodes() if n < 2000000])\n",
    "print(f\"Number of tracks: {num_tracks}, Number of playlists: {num_playlist}\")"
   ]
  }
 ],
 "metadata": {
  "kernelspec": {
   "display_name": "music-rec",
   "language": "python",
   "name": "python3"
  },
  "language_info": {
   "codemirror_mode": {
    "name": "ipython",
    "version": 3
   },
   "file_extension": ".py",
   "mimetype": "text/x-python",
   "name": "python",
   "nbconvert_exporter": "python",
   "pygments_lexer": "ipython3",
   "version": "3.9.0"
  },
  "orig_nbformat": 4,
  "vscode": {
   "interpreter": {
    "hash": "a61d121c6fba4b29c9bddc394dffb9fd9da9fad3371ea7fc5f92cef45e94d6a6"
   }
  }
 },
 "nbformat": 4,
 "nbformat_minor": 2
}
